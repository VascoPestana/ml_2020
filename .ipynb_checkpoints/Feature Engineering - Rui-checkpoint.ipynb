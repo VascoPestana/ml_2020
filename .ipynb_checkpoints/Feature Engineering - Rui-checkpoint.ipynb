{
 "cells": [
  {
   "cell_type": "code",
   "execution_count": 1,
   "metadata": {},
   "outputs": [],
   "source": [
    "# Import relevant libraries\n",
    "import sqlite3\n",
    "import os\n",
    "import pandas as pd\n",
    "import numpy as np\n",
    "import matplotlib.pyplot as plt\n",
    "import seaborn as sns\n",
    "from math import ceil\n",
    "\n",
    "# for better resolution plots\n",
    "%config InlineBackend.figure_format = 'retina' # optionally, you can change 'svg' to 'retina'\n",
    "\n",
    "# Setting seaborn style\n",
    "sns.set()"
   ]
  },
  {
   "cell_type": "code",
   "execution_count": 29,
   "metadata": {},
   "outputs": [],
   "source": [
    "# Get the dataset and checking its first rows\n",
    "df_train = pd.read_excel(r'Data/Train.xlsx')"
   ]
  },
  {
   "cell_type": "code",
   "execution_count": 30,
   "metadata": {},
   "outputs": [],
   "source": [
    "# rui\n",
    "\n",
    "# publico ou privado ou self ou uneployed empl. sector\n",
    "\n",
    "# binaria governo ou n empl. sector\n",
    "\n",
    "# juntar categorias do employment sector never worked mas tem working hours incoerencia -> ver casos individualmente"
   ]
  },
  {
   "cell_type": "code",
   "execution_count": 31,
   "metadata": {},
   "outputs": [],
   "source": [
    "# publico ou privado ou self ou uneployed empl. sector\n",
    "def sectors(a):\n",
    "    if 'Private Sector' in a:\n",
    "        return 'Private Sector'\n",
    "    elif 'Public Sector' in a:\n",
    "        return 'Public Sector'\n",
    "    elif 'Self-Employed' in a:\n",
    "        return 'Self-Employed'\n",
    "    else:\n",
    "        return 'Unemployed / Never Worked'\n",
    "    \n",
    "df_train['Employment Sector (simplified)'] = df_train['Employment Sector'].map(sectors)"
   ]
  },
  {
   "cell_type": "code",
   "execution_count": 32,
   "metadata": {},
   "outputs": [],
   "source": [
    "# binaria governo ou n empl. sector\n",
    "df_train['Government'] = df_train['Employment Sector'].map(lambda x: 1 if 'Government' in x else 0)"
   ]
  }
 ],
 "metadata": {
  "kernelspec": {
   "display_name": "Python 3",
   "language": "python",
   "name": "python3"
  },
  "language_info": {
   "codemirror_mode": {
    "name": "ipython",
    "version": 3
   },
   "file_extension": ".py",
   "mimetype": "text/x-python",
   "name": "python",
   "nbconvert_exporter": "python",
   "pygments_lexer": "ipython3",
   "version": "3.8.5"
  }
 },
 "nbformat": 4,
 "nbformat_minor": 4
}
